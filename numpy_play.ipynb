{
 "cells": [
  {
   "cell_type": "code",
   "execution_count": 34,
   "metadata": {},
   "outputs": [
    {
     "name": "stdout",
     "output_type": "stream",
     "text": [
      "[(1,), (2,), (3,)]\n",
      "[(1, 4), (2, 5), (3, 6)]\n",
      "[(1, 4, 7), (2, 5, 8)]\n",
      "reversed:  [3, 2, 1]\n",
      "sorted:  [1, 2, 3]\n",
      "{3: 4, 2: 5, 1: 6}\n",
      "{'a': 'b', 'c': 'd', 'e': 'f'}\n",
      "list comprehension:  ['A', 'B', 'C']\n",
      "dict comprehension:  {0: 'a', 1: 'b', 2: 'c'}\n",
      "set comprehension:  {'B', 'A', 'C'}\n"
     ]
    }
   ],
   "source": [
    "# Zip\n",
    "\n",
    "a = [1, 2, 3]\n",
    "b = [4, 5, 6]\n",
    "c = [7, 8]\n",
    "\n",
    "print(list(zip(a)))\n",
    "print(list(zip(a, b)))\n",
    "print(list(zip(a, b, c)))\n",
    "\n",
    "# Sorted\n",
    "a.reverse()\n",
    "print('reversed: ', a)\n",
    "print('sorted: ', sorted(a))\n",
    "\n",
    "# Dict\n",
    "\n",
    "# create empty dict\n",
    "# a = {}\n",
    "# print(a)\n",
    "\n",
    "my_dict = {}\n",
    "for x, y in zip(a, b):\n",
    "    my_dict[x] = y\n",
    "\n",
    "print(my_dict)\n",
    "\n",
    "my_dict2 = dict((('a', 'b'), ('c', 'd'), ('e', 'f')))\n",
    "print(my_dict2)\n",
    "\n",
    "\n",
    "# Comprehensions\n",
    "\n",
    "# List Comprehension: [expr for value in collection [if condition]]\n",
    "# NB: the [if condition] is optionally\n",
    "\n",
    "a = ['a', 'b', 'c']\n",
    "print('list comprehension: ', [x.upper() for x in a])\n",
    "\n",
    "# Dict Comprehension: {key_expr: value_expr for value in collection if condition}\n",
    "print('dict comprehension: ', {k: v for k, v in enumerate(a)})\n",
    "\n",
    "# Set Comprehension:  {expr for value in collection [if condition]} \n",
    "print('set comprehension: ', {x.upper() for x in a})\n",
    "\n"
   ]
  }
 ],
 "metadata": {
  "interpreter": {
   "hash": "eace59150963d4f5128b106c48af61c31247fa8787543d31a22d5aa198a0eabf"
  },
  "kernelspec": {
   "display_name": "Python 3.9.7 64-bit ('data-science': conda)",
   "name": "python3"
  },
  "language_info": {
   "codemirror_mode": {
    "name": "ipython",
    "version": 3
   },
   "file_extension": ".py",
   "mimetype": "text/x-python",
   "name": "python",
   "nbconvert_exporter": "python",
   "pygments_lexer": "ipython3",
   "version": "3.9.7"
  },
  "orig_nbformat": 4
 },
 "nbformat": 4,
 "nbformat_minor": 2
}
