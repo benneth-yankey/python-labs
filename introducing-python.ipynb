{
 "cells": [
  {
   "cell_type": "markdown",
   "metadata": {},
   "source": [
    "# **Introducing** Python"
   ]
  },
  {
   "cell_type": "markdown",
   "metadata": {},
   "source": [
    "Write `Hello World` in python. Using a variable named `world` rewrite your \"Hello World\" to be \"Hello \" and the current value held in the variable `world`\n"
   ]
  },
  {
   "cell_type": "code",
   "execution_count": 103,
   "metadata": {},
   "outputs": [
    {
     "name": "stdout",
     "output_type": "stream",
     "text": [
      "Hello World\n"
     ]
    },
    {
     "data": {
      "text/plain": [
       "'Hello'"
      ]
     },
     "execution_count": 103,
     "metadata": {},
     "output_type": "execute_result"
    }
   ],
   "source": [
    "world = 'Hello World'\n",
    "print(world)\n",
    "\n",
    "world = 'Hello'\n",
    "world"
   ]
  },
  {
   "cell_type": "markdown",
   "metadata": {},
   "source": [
    "Write a script that prompts the user to enter a number. Read this number and print a message depending on whether it is odd or even"
   ]
  },
  {
   "cell_type": "code",
   "execution_count": 105,
   "metadata": {},
   "outputs": [
    {
     "name": "stdout",
     "output_type": "stream",
     "text": [
      "odd\n"
     ]
    }
   ],
   "source": [
    "value = int(input('Enter a number: '))\n",
    "if value % 2 == 0:\n",
    "    print('even')\n",
    "else:\n",
    "    print('odd')\n",
    "# res = 'even' if value % 2 == 0 else 'odd' \n",
    "# res"
   ]
  },
  {
   "cell_type": "markdown",
   "metadata": {},
   "source": [
    "Create two variables,\n",
    "- one containing your name and the other containing your age\n",
    "- now print out the values of both of these variables on separate lines\n",
    "- then combine both into a single variable and print out its value"
   ]
  },
  {
   "cell_type": "code",
   "execution_count": null,
   "metadata": {},
   "outputs": [
    {
     "name": "stdout",
     "output_type": "stream",
     "text": [
      "benneth\n",
      "20\n"
     ]
    },
    {
     "data": {
      "text/plain": [
       "('benneth', 20)"
      ]
     },
     "execution_count": 72,
     "metadata": {},
     "output_type": "execute_result"
    }
   ],
   "source": [
    "# one containing your name and the other containing your age\n",
    "name = 'benneth'\n",
    "age = 20\n",
    "\n",
    "# now print out the values of both of these variables on separate lines\n",
    "print(name)\n",
    "print(age)\n",
    "\n",
    "# then combine both into a single variable and print out its value\n",
    "res = f'{name} {age}'\n",
    "res\n"
   ]
  },
  {
   "cell_type": "markdown",
   "metadata": {},
   "source": [
    "Print out a message to the user, asking them to guess a random number (you can decide on a range if you want). Keep asking them to guess until they get it right."
   ]
  },
  {
   "cell_type": "code",
   "execution_count": null,
   "metadata": {},
   "outputs": [],
   "source": [
    "import random\n",
    "num = int(input(\"Enter a random number:\"))\n",
    "for num in range(200):\n",
    "    num = random.randint(100,200)\n",
    "    print(num)"
   ]
  },
  {
   "cell_type": "code",
   "execution_count": null,
   "metadata": {},
   "outputs": [
    {
     "name": "stdout",
     "output_type": "stream",
     "text": [
      "right guess\n"
     ]
    }
   ],
   "source": [
    "import random\n",
    "\n",
    "guess = int(input(\"guess a number b/n  0 and 11: \"))\n",
    "\n",
    "while True:\n",
    "    number = random.randint(1,3);\n",
    "    guess = int(input(\"oops, try again: \"))\n",
    "    if number == guess:\n",
    "        break\n",
    "    \n",
    "print(\"right guess\")"
   ]
  },
  {
   "cell_type": "code",
   "execution_count": null,
   "metadata": {},
   "outputs": [
    {
     "name": "stdout",
     "output_type": "stream",
     "text": [
      "Oops! try again...\n",
      "Oops! try again...\n",
      "You guessed right, the value is 1\n"
     ]
    }
   ],
   "source": [
    "import random\n",
    "\n",
    "messages = [ 'Oops! try again...', 'You can do it', 'Beat it']\n",
    "is_correct = False\n",
    "answer = 0\n",
    "\n",
    "while not is_correct:\n",
    "    value = int(input('Guess a number between 1 and 5: '))\n",
    "    rand = random.randint(1, 5)\n",
    "    if value == rand:\n",
    "        is_correct = True\n",
    "        answer = rand\n",
    "    else:\n",
    "        print(messages[random.randint(0, len(messages) - 1)])\n",
    "\n",
    "print(f'You guessed right, the value is {answer}')"
   ]
  },
  {
   "cell_type": "markdown",
   "metadata": {},
   "source": [
    "Declare a list `[1, 4, 9, 16, 25]` or tuple `(1, 4, 9, 16, 25)` , and using the `for-loop` print out all values that are even."
   ]
  },
  {
   "cell_type": "code",
   "execution_count": null,
   "metadata": {},
   "outputs": [
    {
     "name": "stdout",
     "output_type": "stream",
     "text": [
      "4\n",
      "16\n",
      "4\n",
      "16\n"
     ]
    }
   ],
   "source": [
    "mylist = [1, 4, 9, 16, 25]\n",
    "for i in mylist:\n",
    "    if i % 2 == 0:\n",
    "        print(i)\n",
    "    \n",
    "mytuple = (1, 4, 9, 16, 25)\n",
    "for i in mytuple:\n",
    "    if i % 2 == 0:\n",
    "        print(i)"
   ]
  },
  {
   "cell_type": "markdown",
   "metadata": {},
   "source": [
    "Using a while-loop print out the sum of all the years up to and including your current age, for example, if you were 5 y.o. you would end up with `1 + 2 + 3 + 4 + 5 = 15`. Print out the final value in years (15 years). Also print out the calculated number of years as a number of months, days and hours."
   ]
  },
  {
   "cell_type": "code",
   "execution_count": 106,
   "metadata": {},
   "outputs": [
    {
     "data": {
      "text/plain": [
       "210"
      ]
     },
     "execution_count": 106,
     "metadata": {},
     "output_type": "execute_result"
    }
   ],
   "source": [
    "year = 1\n",
    "age = 20\n",
    "sum = 0\n",
    "while year < age+1:\n",
    "    sum += year\n",
    "    year += 1\n",
    "\n",
    "sum"
   ]
  }
 ],
 "metadata": {
  "interpreter": {
   "hash": "1909661be5e18019677c25c033928a489681e50462647574eeb466b5dfccac0e"
  },
  "kernelspec": {
   "display_name": "Python 3.9.7 64-bit ('python-labs': conda)",
   "name": "python3"
  },
  "language_info": {
   "codemirror_mode": {
    "name": "ipython",
    "version": 3
   },
   "file_extension": ".py",
   "mimetype": "text/x-python",
   "name": "python",
   "nbconvert_exporter": "python",
   "pygments_lexer": "ipython3",
   "version": "3.9.7"
  },
  "orig_nbformat": 4
 },
 "nbformat": 4,
 "nbformat_minor": 2
}
