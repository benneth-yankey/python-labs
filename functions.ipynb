{
 "cells": [
  {
   "cell_type": "markdown",
   "metadata": {},
   "source": [
    "# **Functions**"
   ]
  },
  {
   "cell_type": "markdown",
   "metadata": {},
   "source": [
    "Write a function that takes the last element in a list and moves it to the front of the list"
   ]
  },
  {
   "cell_type": "code",
   "execution_count": 20,
   "metadata": {},
   "outputs": [
    {
     "data": {
      "text/plain": [
       "[4, 1, 2, 3]"
      ]
     },
     "execution_count": 20,
     "metadata": {},
     "output_type": "execute_result"
    }
   ],
   "source": [
    "def transpose(seq):\n",
    "    return [seq[-1]] + seq[:len(seq)-1] \n",
    "\n",
    "transpose([1, 2, 3, 4])"
   ]
  },
  {
   "cell_type": "markdown",
   "metadata": {},
   "source": [
    "Write a function that takes a list and a variable number of indices. The function should return a tuple of the values at those indices."
   ]
  },
  {
   "cell_type": "code",
   "execution_count": 43,
   "metadata": {},
   "outputs": [
    {
     "name": "stdout",
     "output_type": "stream",
     "text": [
      "(5, 10)\n",
      "(13, 10)\n"
     ]
    }
   ],
   "source": [
    "def func(seq, *args):\n",
    "    return tuple([seq[i] for i in args if len(seq) > i])\n",
    "\n",
    "print(func([5, 13, 10, 18], 0, 2))\n",
    "print(func([5, 13, 10, 18], 1, 2))\n"
   ]
  },
  {
   "cell_type": "markdown",
   "metadata": {},
   "source": [
    "Write a function that takes named parameters and returns the parameters as a Dictionary of parameter name -> value"
   ]
  },
  {
   "cell_type": "code",
   "execution_count": 46,
   "metadata": {},
   "outputs": [
    {
     "data": {
      "text/plain": [
       "{'name': 'benneth', 'age': 20}"
      ]
     },
     "execution_count": 46,
     "metadata": {},
     "output_type": "execute_result"
    }
   ],
   "source": [
    "def my_dict(**kwargs):\n",
    "    return kwargs\n",
    "\n",
    "my_dict(name='benneth', age=20)"
   ]
  },
  {
   "cell_type": "markdown",
   "metadata": {},
   "source": [
    "Write a function that take an initial value and a tuple of ints and accumulates into the initial value. For example: `acc(0, (1,3,5))` would return `9`"
   ]
  },
  {
   "cell_type": "code",
   "execution_count": 59,
   "metadata": {},
   "outputs": [
    {
     "data": {
      "text/plain": [
       "9"
      ]
     },
     "execution_count": 59,
     "metadata": {},
     "output_type": "execute_result"
    }
   ],
   "source": [
    "def acc(x, seq):\n",
    "    # using the walrus operator :=\n",
    "    return [x := x + i for i in list(seq)][-1] \n",
    "\n",
    "acc(0, (1,3,5))"
   ]
  },
  {
   "cell_type": "markdown",
   "metadata": {},
   "source": [
    "Rewrite your Fibonacci exercise from earlier to use a function that takes an argument for how many numbers are required. Test your code with the following calls:\n",
    "\n",
    "`fib(2000)`<br>\n",
    "`fib(100)`<br>\n",
    "`fib(0)`"
   ]
  },
  {
   "cell_type": "code",
   "execution_count": null,
   "metadata": {},
   "outputs": [],
   "source": [
    "def fib(n):\n",
    "    a, b = 0, 1 \n",
    "    for i in range(n):\n",
    "        print(a, end=' ')\n",
    "        a, b = b, a + b \n",
    "\n",
    "print(fib(2000))\n",
    "print(fib(100))\n",
    "print(fib(0))"
   ]
  }
 ],
 "metadata": {
  "interpreter": {
   "hash": "eace59150963d4f5128b106c48af61c31247fa8787543d31a22d5aa198a0eabf"
  },
  "kernelspec": {
   "display_name": "Python 3.9.7 64-bit ('data-science': conda)",
   "name": "python3"
  },
  "language_info": {
   "codemirror_mode": {
    "name": "ipython",
    "version": 3
   },
   "file_extension": ".py",
   "mimetype": "text/x-python",
   "name": "python",
   "nbconvert_exporter": "python",
   "pygments_lexer": "ipython3",
   "version": "3.9.7"
  },
  "orig_nbformat": 4
 },
 "nbformat": 4,
 "nbformat_minor": 2
}
