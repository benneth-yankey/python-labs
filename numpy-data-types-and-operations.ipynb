{
 "cells": [
  {
   "cell_type": "code",
   "execution_count": 93,
   "metadata": {},
   "outputs": [],
   "source": [
    "# imports\n",
    "import numpy as np\n",
    "import pandas as pd\n",
    "import csv"
   ]
  },
  {
   "cell_type": "code",
   "execution_count": null,
   "metadata": {},
   "outputs": [],
   "source": [
    "import timeit\n",
    "\n",
    "# my_list = range(1000)\n",
    "print(timeit.timeit(setup='my_list = range(1000)'))\n",
    "# print(timeit [x**2 for x in my_list])"
   ]
  },
  {
   "cell_type": "code",
   "execution_count": null,
   "metadata": {},
   "outputs": [],
   "source": [
    "otherArray = np.arange(1000)"
   ]
  },
  {
   "cell_type": "code",
   "execution_count": null,
   "metadata": {},
   "outputs": [],
   "source": [
    "df = pd.read_csv('AAPL-2017.csv')\n",
    "df"
   ]
  },
  {
   "cell_type": "code",
   "execution_count": 94,
   "metadata": {},
   "outputs": [
    {
     "name": "stdout",
     "output_type": "stream",
     "text": [
      "[['115.800003' '116.330002' '114.760002' '116.150002' '113.013916'\n",
      "  '28781900']\n",
      " ['115.849998' '116.510002' '115.750000' '116.019997' '112.887413'\n",
      "  '21118100']\n",
      " ['115.919998' '116.860001' '115.809998' '116.610001' '113.461502'\n",
      "  '22193600']\n",
      " ...\n",
      " ['170.100006' '170.779999' '169.710007' '170.600006' '168.663101'\n",
      "  '21498200']\n",
      " ['171.000000' '171.850006' '170.479996' '171.080002' '169.137650'\n",
      "  '16480200']\n",
      " ['170.520004' '170.589996' '169.220001' '169.229996' '167.308640'\n",
      "  '25884400']]\n"
     ]
    }
   ],
   "source": [
    "\n",
    "with open('AAPL-2017.csv', newline='') as f:\n",
    "    reader = csv.DictReader(f)\n",
    "    people = np.empty((0,6))\n",
    "    for row in reader:\n",
    "        oneRow = np.array([[row['Open'], row['High'], row['Low'], row['Close'], row['Adj Close'], row['Volume']]])\n",
    "        people = np.append(people,oneRow,axis=0)\n",
    "\n",
    "print(people)\n",
    "\n",
    "# verify ndim, shape\n",
    "# print(people.ndim) # \n",
    "# print(people.shape) # \n",
    "\n",
    "\n"
   ]
  },
  {
   "cell_type": "markdown",
   "metadata": {},
   "source": [
    "### Problem with data type mismatch"
   ]
  },
  {
   "cell_type": "code",
   "execution_count": 79,
   "metadata": {},
   "outputs": [
    {
     "name": "stdout",
     "output_type": "stream",
     "text": [
      "(4,)\n"
     ]
    }
   ],
   "source": [
    "a = np.array([1,2,3,4])\n",
    "\n",
    "print(a.shape)"
   ]
  },
  {
   "cell_type": "code",
   "execution_count": 92,
   "metadata": {},
   "outputs": [
    {
     "data": {
      "text/plain": [
       "array([0. , 0.5, 1. , 1.5, 2. , 2.5, 3. , 3.5, 4. , 4.5, 5. , 5.5, 6. ,\n",
       "       6.5, 7. , 7.5, 8. , 8.5, 9. , 9.5])"
      ]
     },
     "execution_count": 92,
     "metadata": {},
     "output_type": "execute_result"
    }
   ],
   "source": [
    "# a5 = np.arange(0.5, 5.8, 0.5, int)\n",
    "# a6 = np.arange(0.5, 5.8, 0.5, float)\n",
    "# print(a5) #[ 0  1  2  3  4  5  6  7  8  9 10]\n",
    "# print(a6) \n",
    "\n",
    "\n",
    "\n",
    "# x = np.arange(10)\n",
    "\n",
    "x = np.arange(0,10,0.5)\n",
    "x"
   ]
  },
  {
   "cell_type": "code",
   "execution_count": null,
   "metadata": {},
   "outputs": [],
   "source": [
    "def load_csv(str):\n",
    "    with open(str, newline='') as f:\n",
    "        reader = csv.DictReader(f)\n",
    "        people = np.empty((0,6))\n",
    "        for row in reader:\n",
    "            oneRow = np.array([[row['Open'], row['High'], row['Low'], row['Close'], row['Adj Close'], row['Volume']]])\n",
    "            people = np.append(people,oneRow,axis=0)\n",
    "\n",
    "    return people.astype(np.float64)\n",
    "\n",
    "\n",
    "data_2016 = load_csv('AAPL-2016.csv')\n",
    "print(data_2016)\n",
    "\n",
    "print('=====================================')\n",
    "\n",
    "data_2017 = load_csv('AAPL-2017.csv')\n",
    "print(data_2017)"
   ]
  },
  {
   "cell_type": "markdown",
   "metadata": {},
   "source": [
    "Using the correct axis,\n",
    " 1. sum the columns for both your arrays, \n",
    " 2. and display the total volume traded for both years. \n",
    " 3. Also calculate and print the change in the traded volume from 2017 to 2016."
   ]
  },
  {
   "cell_type": "code",
   "execution_count": 102,
   "metadata": {},
   "outputs": [
    {
     "data": {
      "text/plain": [
       "array([2.61028600e+04, 2.63333400e+04, 2.58981200e+04, 2.61276600e+04,\n",
       "       2.51754246e+04, 9.63499570e+09])"
      ]
     },
     "execution_count": 102,
     "metadata": {},
     "output_type": "execute_result"
    }
   ],
   "source": [
    "res = data_2016.sum(0)\n",
    "res"
   ]
  }
 ],
 "metadata": {
  "interpreter": {
   "hash": "eace59150963d4f5128b106c48af61c31247fa8787543d31a22d5aa198a0eabf"
  },
  "kernelspec": {
   "display_name": "Python 3.9.7 64-bit ('data-science': conda)",
   "name": "python3"
  },
  "language_info": {
   "codemirror_mode": {
    "name": "ipython",
    "version": 3
   },
   "file_extension": ".py",
   "mimetype": "text/x-python",
   "name": "python",
   "nbconvert_exporter": "python",
   "pygments_lexer": "ipython3",
   "version": "3.9.7"
  },
  "orig_nbformat": 4
 },
 "nbformat": 4,
 "nbformat_minor": 2
}
