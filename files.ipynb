{
 "cells": [
  {
   "cell_type": "markdown",
   "metadata": {},
   "source": [
    "# Working with **Text** files"
   ]
  },
  {
   "cell_type": "markdown",
   "metadata": {},
   "source": [
    "Write a Python script that accepts input from the user until the user types \"end\".\n",
    "Append all the information into a file. Close and reopen the same file in read mode and print out the history of what the user typed.\n",
    "\n",
    "Remember to use a try block/with to cleanly close your file resources.\n",
    "\n",
    "Remember you can use `input` to read data from the user."
   ]
  },
  {
   "cell_type": "code",
   "execution_count": null,
   "metadata": {},
   "outputs": [],
   "source": [
    "def save_to_file(data):\n",
    "    with open('./file.txt', 'a') as file:\n",
    "        file.truncate()\n",
    "        file.write(f'{data}\\n')\n",
    "\n",
    "def main():\n",
    "    while True:\n",
    "        value = input('Enter your content: ')\n",
    "        if (value == 'end'): break\n",
    "        save_to_file(value)\n",
    "\n",
    "    with open('./file.txt', 'r') as file:\n",
    "        for line in file:\n",
    "            print(line)\n",
    "\n",
    "main()"
   ]
  }
 ],
 "metadata": {
  "interpreter": {
   "hash": "eace59150963d4f5128b106c48af61c31247fa8787543d31a22d5aa198a0eabf"
  },
  "kernelspec": {
   "display_name": "Python 3.9.7 64-bit ('data-science': conda)",
   "name": "python3"
  },
  "language_info": {
   "codemirror_mode": {
    "name": "ipython",
    "version": 3
   },
   "file_extension": ".py",
   "mimetype": "text/x-python",
   "name": "python",
   "nbconvert_exporter": "python",
   "pygments_lexer": "ipython3",
   "version": "3.9.7"
  },
  "orig_nbformat": 4
 },
 "nbformat": 4,
 "nbformat_minor": 2
}
