{
 "cells": [
  {
   "cell_type": "markdown",
   "metadata": {},
   "source": [
    "Write a script to print out the first 20 Fibonacci numbers"
   ]
  },
  {
   "cell_type": "code",
   "execution_count": 35,
   "metadata": {},
   "outputs": [
    {
     "name": "stdout",
     "output_type": "stream",
     "text": [
      "0\n",
      "1\n",
      "1\n",
      "2\n",
      "3\n",
      "5\n",
      "8\n",
      "13\n",
      "21\n",
      "34\n",
      "55\n",
      "89\n",
      "144\n",
      "233\n",
      "377\n",
      "610\n",
      "987\n",
      "1597\n",
      "2584\n",
      "4181\n"
     ]
    }
   ],
   "source": [
    "def fib(n):\n",
    "    a, b = 0, 1 \n",
    "    for i in range(n):\n",
    "        print(a)\n",
    "        c = b \n",
    "        b = a + b \n",
    "        a = c \n",
    "\n",
    "fib(20)"
   ]
  },
  {
   "cell_type": "markdown",
   "metadata": {},
   "source": [
    "Examine the `string` type and some of its methods: \n",
    "\n",
    "1. Assign your name to a variable. Print out the last character of the variable \n",
    "   (remember, strings are just     lists of ``chars``).\n",
    "\n",
    "2. Now use a for loop to print each letter in your name followed by a colon (``\":\"``), for example: ``m:i:k:e``."
   ]
  },
  {
   "cell_type": "code",
   "execution_count": 33,
   "metadata": {},
   "outputs": [
    {
     "name": "stdout",
     "output_type": "stream",
     "text": [
      "m:i:k:e\n"
     ]
    }
   ],
   "source": [
    "# data types - 8\n",
    "\n",
    "name = 'mike'\n",
    "for k, v in enumerate(name):\n",
    "    print(v) if len(name) - 1 == k else print(f'{v}:', end='')\n",
    "\n"
   ]
  },
  {
   "cell_type": "markdown",
   "metadata": {},
   "source": [
    "Write a script that asks the user to enter 10 numbers between 1 and 8. \n",
    "\n",
    "1. Store the 10 numbers in a list.\n",
    "2. Count the number of times the user enters the number 5.\n",
    "   _Note that lists have a method called `count()`_"
   ]
  },
  {
   "cell_type": "code",
   "execution_count": 31,
   "metadata": {},
   "outputs": [
    {
     "name": "stdout",
     "output_type": "stream",
     "text": [
      "[5, 5, 5, 2, 3]\n",
      "3\n",
      "3\n"
     ]
    }
   ],
   "source": [
    "nums = []\n",
    "for i in range(5):\n",
    "    n = int(input(\"Enter a number between 1 and 8\"))\n",
    "    if n > 1 and n < 8:\n",
    "        nums.append(n)\n",
    "\n",
    "# populated list\n",
    "print(nums)\n",
    "\n",
    "# long path: manual check\n",
    "count = 0\n",
    "for i in nums:\n",
    "    count += 1 if i == 5 else 0\n",
    "print(count)\n",
    "\n",
    "# short path using list.count() method\n",
    "print(nums.count(5))\n",
    "\n"
   ]
  },
  {
   "cell_type": "markdown",
   "metadata": {},
   "source": [
    "Declare a list `[1, 4, 9, 16, 25]`\n",
    " (as in the previous exercise); use list comprehension to filter out all the odd numbers."
   ]
  },
  {
   "cell_type": "code",
   "execution_count": 32,
   "metadata": {},
   "outputs": [
    {
     "data": {
      "text/plain": [
       "[1, 9, 25]"
      ]
     },
     "execution_count": 32,
     "metadata": {},
     "output_type": "execute_result"
    }
   ],
   "source": [
    "mylist = [1, 4, 9, 16, 25]\n",
    "odd_nums = [ i for i in mylist if i % 2]\n",
    "odd_nums"
   ]
  }
 ],
 "metadata": {
  "interpreter": {
   "hash": "1909661be5e18019677c25c033928a489681e50462647574eeb466b5dfccac0e"
  },
  "kernelspec": {
   "display_name": "Python 3.9.7 64-bit ('python-labs': conda)",
   "name": "python3"
  },
  "language_info": {
   "codemirror_mode": {
    "name": "ipython",
    "version": 3
   },
   "file_extension": ".py",
   "mimetype": "text/x-python",
   "name": "python",
   "nbconvert_exporter": "python",
   "pygments_lexer": "ipython3",
   "version": "3.9.7"
  },
  "orig_nbformat": 4
 },
 "nbformat": 4,
 "nbformat_minor": 2
}
